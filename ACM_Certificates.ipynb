{
  "nbformat": 4,
  "nbformat_minor": 0,
  "metadata": {
    "colab": {
      "name": "ACM Certificates.ipynb",
      "provenance": [],
      "collapsed_sections": [],
      "include_colab_link": true
    },
    "kernelspec": {
      "name": "python3",
      "display_name": "Python 3"
    },
    "language_info": {
      "name": "python"
    }
  },
  "cells": [
    {
      "cell_type": "markdown",
      "metadata": {
        "id": "view-in-github",
        "colab_type": "text"
      },
      "source": [
        "<a href=\"https://colab.research.google.com/github/sdshaheer/TensorFlow/blob/main/ACM_Certificates.ipynb\" target=\"_parent\"><img src=\"https://colab.research.google.com/assets/colab-badge.svg\" alt=\"Open In Colab\"/></a>"
      ]
    },
    {
      "cell_type": "code",
      "metadata": {
        "id": "_0X9w1_NOuy3"
      },
      "source": [
        "import pandas as pd\n",
        "import smtplib\n",
        "from PIL import Image,ImageDraw,ImageFont"
      ],
      "execution_count": null,
      "outputs": []
    },
    {
      "cell_type": "code",
      "metadata": {
        "id": "XTO7e0UZTwrM"
      },
      "source": [
        "def generate_certificate(person_name):\n",
        "  font=ImageFont.truetype('/content/FreeMono.ttf',13)\n",
        "  img=Image.open('/content/image.jpg')\n",
        "  img=img.convert('RGB')\n",
        "  draw=ImageDraw.Draw(img)\n",
        "  draw.text((340,265),person_name,font=font,fill=(0,0,0))\n",
        "  img.show()\n",
        "  img.save(\"save.jpg\")\n"
      ],
      "execution_count": null,
      "outputs": []
    },
    {
      "cell_type": "code",
      "metadata": {
        "id": "p_kIEy27krLz"
      },
      "source": [
        "from email.message import EmailMessage\n",
        "import smtplib\n",
        "import imghdr\n",
        "df=pd.read_excel('/content/demo.xlsx')\n",
        "total_data=df.values\n",
        "user=\"sdshaheer5421@gmail.com\"\n",
        "password=\"password\"\n",
        "for data in total_data:\n",
        "  person_email=data[0]\n",
        "  person_name=data[1]\n",
        "  generate_certificate(person_name)\n",
        "  msg=EmailMessage()  \n",
        "  msg['Subject']=\"ACM Event E-certificate\"\n",
        "  msg['From']=user\n",
        "  msg['To']=person_email\n",
        "  msg.set_content('congratulations')\n",
        "\n",
        "  with open('save.jpg','rb') as f:\n",
        "    data=f.read()\n",
        "    filetype=imghdr.what(f.name)\n",
        "    filename=f.name\n",
        "\n",
        "  msg.add_attachment(data,maintype='image',subtype=filetype,filename=filename)\n",
        "\n",
        "  with smtplib.SMTP_SSL('smtp.gmail.com',465) as smtp:\n",
        "    smtp.login(user,password)\n",
        "    smtp.send_message(msg)\n"
      ],
      "execution_count": null,
      "outputs": []
    }
  ]
}